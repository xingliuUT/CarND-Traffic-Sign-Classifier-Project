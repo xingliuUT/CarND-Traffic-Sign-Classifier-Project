{
 "cells": [
  {
   "cell_type": "markdown",
   "metadata": {},
   "source": [
    "# Self-Driving Car Engineer Nanodegree\n",
    "\n",
    "## Deep Learning\n",
    "\n",
    "## Project: Build a Traffic Sign Recognition Classifier\n",
    "\n",
    "In this notebook, a template is provided for you to implement your functionality in stages, which is required to successfully complete this project. If additional code is required that cannot be included in the notebook, be sure that the Python code is successfully imported and included in your submission if necessary. \n",
    "\n",
    "> **Note**: Once you have completed all of the code implementations, you need to finalize your work by exporting the iPython Notebook as an HTML document. Before exporting the notebook to html, all of the code cells need to have been run so that reviewers can see the final implementation and output. You can then export the notebook by using the menu above and navigating to  \\n\",\n",
    "    \"**File -> Download as -> HTML (.html)**. Include the finished document along with this notebook as your submission. \n",
    "\n",
    "In addition to implementing code, there is a writeup to complete. The writeup should be completed in a separate file, which can be either a markdown file or a pdf document. There is a [write up template](https://github.com/udacity/CarND-Traffic-Sign-Classifier-Project/blob/master/writeup_template.md) that can be used to guide the writing process. Completing the code template and writeup template will cover all of the [rubric points](https://review.udacity.com/#!/rubrics/481/view) for this project.\n",
    "\n",
    "The [rubric](https://review.udacity.com/#!/rubrics/481/view) contains \"Stand Out Suggestions\" for enhancing the project beyond the minimum requirements. The stand out suggestions are optional. If you decide to pursue the \"stand out suggestions\", you can include the code in this Ipython notebook and also discuss the results in the writeup file.\n",
    "\n",
    "\n",
    ">**Note:** Code and Markdown cells can be executed using the **Shift + Enter** keyboard shortcut. In addition, Markdown cells can be edited by typically double-clicking the cell to enter edit mode."
   ]
  },
  {
   "cell_type": "markdown",
   "metadata": {},
   "source": [
    "---\n",
    "## Step 0: Load The Data"
   ]
  },
  {
   "cell_type": "code",
   "execution_count": 21,
   "metadata": {
    "collapsed": true
   },
   "outputs": [],
   "source": [
    "# Load pickled data\n",
    "import pickle\n",
    "import os\n",
    "\n",
    "# TODO: Fill this in based on where you saved the training and testing data\n",
    "\n",
    "training_file = \"./traffic-signs-data/train.p\"\n",
    "validation_file=\"./traffic-signs-data/valid.p\"\n",
    "testing_file = \"./traffic-signs-data/test.p\"\n",
    "\n",
    "with open(training_file, mode='rb') as f:\n",
    "    train = pickle.load(f)\n",
    "with open(validation_file, mode='rb') as f:\n",
    "    valid = pickle.load(f)\n",
    "with open(testing_file, mode='rb') as f:\n",
    "    test = pickle.load(f)\n",
    "    \n",
    "X_train, y_train = train['features'], train['labels']\n",
    "X_valid, y_valid = valid['features'], valid['labels']\n",
    "X_test, y_test = test['features'], test['labels']"
   ]
  },
  {
   "cell_type": "markdown",
   "metadata": {},
   "source": [
    "---\n",
    "## Step 1: Dataset Summary & Exploration\n",
    "\n",
    "The pickled data is a dictionary with 4 key/value pairs:\n",
    "\n",
    "- `'features'` is a 4D array containing raw pixel data of the traffic sign images, (num examples, width, height, channels).\n",
    "- `'labels'` is a 1D array containing the label/class id of the traffic sign. The file `signnames.csv` contains id -> name mappings for each id.\n",
    "- `'sizes'` is a list containing tuples, (width, height) representing the original width and height the image.\n",
    "- `'coords'` is a list containing tuples, (x1, y1, x2, y2) representing coordinates of a bounding box around the sign in the image. **THESE COORDINATES ASSUME THE ORIGINAL IMAGE. THE PICKLED DATA CONTAINS RESIZED VERSIONS (32 by 32) OF THESE IMAGES**\n",
    "\n",
    "Complete the basic data summary below. Use python, numpy and/or pandas methods to calculate the data summary rather than hard coding the results. For example, the [pandas shape method](http://pandas.pydata.org/pandas-docs/stable/generated/pandas.DataFrame.shape.html) might be useful for calculating some of the summary results. "
   ]
  },
  {
   "cell_type": "markdown",
   "metadata": {},
   "source": [
    "### Provide a Basic Summary of the Data Set Using Python, Numpy and/or Pandas"
   ]
  },
  {
   "cell_type": "code",
   "execution_count": null,
   "metadata": {},
   "outputs": [],
   "source": [
    "### Replace each question mark with the appropriate value. \n",
    "### Use python, pandas or numpy methods rather than hard coding the results\n",
    "import numpy as np\n",
    "\n",
    "# TODO: Number of training examples\n",
    "n_train = X_train.shape[0]\n",
    "\n",
    "# TODO: Number of validation examples\n",
    "n_validation = X_valid.shape[0]\n",
    "\n",
    "# TODO: Number of testing examples.\n",
    "n_test = X_test.shape[0]\n",
    "\n",
    "# TODO: What's the shape of an traffic sign image?\n",
    "image_shape = X_train[0].shape\n",
    "#image_shape = X_test[0].shape\n",
    "\n",
    "# TODO: How many unique classes/labels there are in the dataset.\n",
    "n_classes = len(np.unique(np.concatenate((y_train, y_valid, y_test), axis = 0)))\n",
    "\n",
    "print(\"Number of training examples =\", n_train)\n",
    "print(\"Number of validation examples =\", n_validation)\n",
    "print(\"Number of testing examples =\", n_test)\n",
    "print(\"Image data shape =\", image_shape)\n",
    "print(\"Number of classes =\", n_classes)\n",
    "\n"
   ]
  },
  {
   "cell_type": "markdown",
   "metadata": {},
   "source": [
    "### Include an exploratory visualization of the dataset"
   ]
  },
  {
   "cell_type": "markdown",
   "metadata": {},
   "source": [
    "Visualize the German Traffic Signs Dataset using the pickled file(s). This is open ended, suggestions include: plotting traffic sign images, plotting the count of each sign, etc. \n",
    "\n",
    "The [Matplotlib](http://matplotlib.org/) [examples](http://matplotlib.org/examples/index.html) and [gallery](http://matplotlib.org/gallery.html) pages are a great resource for doing visualizations in Python.\n",
    "\n",
    "**NOTE:** It's recommended you start with something simple first. If you wish to do more, come back to it after you've completed the rest of the sections. It can be interesting to look at the distribution of classes in the training, validation and test set. Is the distribution the same? Are there more examples of some classes than others?"
   ]
  },
  {
   "cell_type": "code",
   "execution_count": null,
   "metadata": {},
   "outputs": [],
   "source": [
    "import pandas as pd\n",
    "sign_names = pd.read_csv('signnames.csv')\n",
    "sign_names['SignName'] = sign_names['SignName'].astype(str)\n",
    "print(sign_names['SignName'].tolist())"
   ]
  },
  {
   "cell_type": "code",
   "execution_count": 22,
   "metadata": {},
   "outputs": [],
   "source": [
    "import matplotlib.pyplot as plt\n",
    "# Visualizations will be shown in the notebook.\n",
    "%matplotlib inline\n",
    "img_output_dir = \"./images/\"\n",
    "if not os.path.exists(img_output_dir):\n",
    "    os.mkdir(img_output_dir)"
   ]
  },
  {
   "cell_type": "code",
   "execution_count": null,
   "metadata": {},
   "outputs": [],
   "source": [
    "def signNameDF(y_data):\n",
    "    y_df = pd.DataFrame(y_data, columns = ['ClassId'])\\\n",
    "                        .merge(sign_names, how = 'left')\n",
    "    y_out = y_df.groupby('SignName')\\\n",
    "                .size()\\\n",
    "                /float(len(y_data))\n",
    "    return y_out\n",
    "                \n",
    "y_train_count = signNameDF(y_train)\n",
    "y_valid_count = signNameDF(y_valid)\n",
    "y_test_count = signNameDF(y_test)\n",
    "y_full_count = pd.concat([y_train_count, y_valid_count, y_test_count], axis = 1)\\\n",
    "                 .rename(columns={0:'Train',1:'Valid',2:'Test'})\\\n",
    "                 .sort_values(by = 'Train', ascending = False)\n",
    "\n",
    "plt.rcParams['figure.figsize'] = (16, 9)\n",
    "plt.figure()\n",
    "y_full_count.plot.bar()\n",
    "plt.legend(loc=1, prop={'size': 20})\n",
    "plt.tick_params(axis='y', which='major', labelsize=20)\n",
    "plt.xlabel('')\n",
    "plt.savefig(img_output_dir + 'hist_full.png', format = 'png')\n"
   ]
  },
  {
   "cell_type": "code",
   "execution_count": null,
   "metadata": {},
   "outputs": [],
   "source": [
    "def plot43():\n",
    "    indices = np.unique(y_train, return_index = True)\n",
    "    plt.figure(figsize = (18, 25))\n",
    "    for i in indices[1]:\n",
    "        sub = plt.subplot(11, 4, y_train[i]+1)\n",
    "        sub.set_xticks(())\n",
    "        sub.set_yticks(())\n",
    "        sub.imshow(X_train[i].squeeze())\n",
    "        sub.set_title(sign_names['SignName'][y_train[i]])\n",
    "    #plt.savefig(img_output_dir + 'oneEachType.png', format = 'png')\n",
    "    plt.show()\n",
    "plot43()"
   ]
  },
  {
   "cell_type": "code",
   "execution_count": null,
   "metadata": {},
   "outputs": [],
   "source": [
    "### Data exploration visualization code goes here.\n",
    "### Feel free to use as many code cells as needed.\n",
    "#import seaborn as sns\n",
    "\n",
    "def plot100(signLabel):\n",
    "    plt.figure(figsize = (16, 25))\n",
    "    X_img = X_train[y_train == signLabel]\n",
    "    for i in range(100):\n",
    "        sub = plt.subplot(10, 10, i+1)\n",
    "        sub.set_xticks(())\n",
    "        sub.set_yticks(())\n",
    "        sub.imshow(X_img[i].squeeze())\n",
    "    #plt.show()\n",
    "    plt.savefig(img_output_dir + 'sample'+ str(signLabel) +'.png', format = 'png')\n",
    "\n",
    "select_signs = [7]\n",
    "#select_signs = [7, 23, 42]\n",
    "for s in select_signs:\n",
    "    plot100(s)\n",
    "    "
   ]
  },
  {
   "cell_type": "markdown",
   "metadata": {},
   "source": [
    "----\n",
    "\n",
    "## Step 2: Design and Test a Model Architecture\n",
    "\n",
    "Design and implement a deep learning model that learns to recognize traffic signs. Train and test your model on the [German Traffic Sign Dataset](http://benchmark.ini.rub.de/?section=gtsrb&subsection=dataset).\n",
    "\n",
    "The LeNet-5 implementation shown in the [classroom](https://classroom.udacity.com/nanodegrees/nd013/parts/fbf77062-5703-404e-b60c-95b78b2f3f9e/modules/6df7ae49-c61c-4bb2-a23e-6527e69209ec/lessons/601ae704-1035-4287-8b11-e2c2716217ad/concepts/d4aca031-508f-4e0b-b493-e7b706120f81) at the end of the CNN lesson is a solid starting point. You'll have to change the number of classes and possibly the preprocessing, but aside from that it's plug and play! \n",
    "\n",
    "With the LeNet-5 solution from the lecture, you should expect a validation set accuracy of about 0.89. To meet specifications, the validation set accuracy will need to be at least 0.93. It is possible to get an even higher accuracy, but 0.93 is the minimum for a successful project submission. \n",
    "\n",
    "There are various aspects to consider when thinking about this problem:\n",
    "\n",
    "- Neural network architecture (is the network over or underfitting?)\n",
    "- Play around preprocessing techniques (normalization, rgb to grayscale, etc)\n",
    "- Number of examples per label (some have more than others).\n",
    "- Generate fake data.\n",
    "\n",
    "Here is an example of a [published baseline model on this problem](http://yann.lecun.com/exdb/publis/pdf/sermanet-ijcnn-11.pdf). It's not required to be familiar with the approach used in the paper but, it's good practice to try to read papers like these."
   ]
  },
  {
   "cell_type": "markdown",
   "metadata": {},
   "source": [
    "### Pre-process the Data Set (normalization, grayscale, etc.)"
   ]
  },
  {
   "cell_type": "markdown",
   "metadata": {},
   "source": [
    "Minimally, the image data should be normalized so that the data has mean zero and equal variance. For image data, `(pixel - 128)/ 128` is a quick way to approximately normalize the data and can be used in this project. \n",
    "\n",
    "Other pre-processing steps are optional. You can try different techniques to see if it improves performance. \n",
    "\n",
    "Use the code cell (or multiple code cells, if necessary) to implement the first step of your project."
   ]
  },
  {
   "cell_type": "code",
   "execution_count": null,
   "metadata": {
    "collapsed": true
   },
   "outputs": [],
   "source": [
    "### Preprocess the data here. It is required to normalize the data. Other preprocessing steps could include \n",
    "### converting to grayscale, etc.\n",
    "### Feel free to use as many code cells as needed.\n",
    "import cv2\n",
    "import random\n",
    "\n",
    "def grayscale(img):\n",
    "    #return cv2.cvtColor(img, cv2.COLOR_RGB2GRAY)\n",
    "    #assumes input shape: 32x32x2\n",
    "    return 0.299 * img[:, :, 0] + 0.587 * img[:, :, 1] + 0.114 * img[:, :, 2]\n",
    "\n",
    "def normalize(x):\n",
    "    return (x - 128.) / 128.\n",
    "\n",
    "def random_brightness(img, factor, nRep):\n",
    "    #assume input is color image\n",
    "    #convert Red, Green, Blue to Hue, Saturation, Value\n",
    "    img_hsv = cv2.cvtColor(img, cv2.COLOR_RGB2HSV)\n",
    "    bright_factor = random.uniform(1. - factor, 1. + factor)\n",
    "    #print(\"brightness\", bright_factor)\n",
    "    img_hsv = np.array(img_hsv, np.float)\n",
    "    img_hsv[:,:,2] = np.minimum(255, img_hsv[:,:,2] * bright_factor)\n",
    "    img_hsv = np.array(img_hsv, np.uint8)\n",
    "    X_bright = np.empty((nRep, 32, 32, 1))\n",
    "    for i in range(nRep):\n",
    "        X_bright[i] = preprocess0(cv2.cvtColor(img_hsv, cv2.COLOR_HSV2RGB))\n",
    "    return X_bright\n",
    "#plt.imshow(random_brightness(X_train[index], 0.9))\n",
    "\n",
    "def random_rotation_scaling(img, maxAngle, scaleFactor, nRep):\n",
    "    #assume input is color or gray image\n",
    "    ncol, nrow, nch = img.shape\n",
    "    #cv2.getRotationMatrix2D(center,angle,scale)\n",
    "    random_angle = random.uniform(- maxAngle, maxAngle)\n",
    "    random_scale = random.uniform(1. - scaleFactor, 1. + scaleFactor)\n",
    "    #print(\"angle =\", random_angle)\n",
    "    #print(\"scale =\", random_scale)\n",
    "    Mrotation = cv2.getRotationMatrix2D((ncol/2, nrow/2),random_angle,random_scale)\n",
    "    X_rotScl = np.empty((nRep * 2, 32, 32, 1))\n",
    "    for i in range(nRep * 2):\n",
    "        X_rotScl[i] = preprocess0(cv2.warpAffine(img, Mrotation,(ncol, nrow)))\n",
    "    return X_rotScl\n",
    "\n",
    "#plt.imshow(random_rotation_scaling(X_train[index], 20., 0.5))\n",
    "def random_translation(img, dFactor, nRep):\n",
    "    #assume input is color or gray image\n",
    "    ncol, nrow, nch = img.shape\n",
    "    tX = dFactor * ncol * random.uniform(-1., 1.)\n",
    "    tY = dFactor * nrow * random.uniform(-1., 1.)\n",
    "    #print(\"right shift =\", tX)\n",
    "    #print(\"down shift =\", tY)\n",
    "    Mtrans = np.float32([[1,0,tX], [0,1,tY]])\n",
    "    X_trans = np.empty((nRep, 32, 32, 1))\n",
    "    for i in range(nRep):\n",
    "        X_trans[i] = preprocess0(cv2.warpAffine(img, Mtrans,(ncol, nrow)))\n",
    "    return X_trans\n",
    "#plt.imshow(random_translation(X_train[index], 0.2))\n",
    "\n",
    "def add_random_blocks(img, nRep):\n",
    "    #assume input is gray image\n",
    "    width = random.uniform(3, 12)\n",
    "    height = random.uniform(3, 12)\n",
    "    baseX = random.uniform(4, 28)\n",
    "    baseY = random.uniform(4, 24)\n",
    "    vertices = np.array([[(baseX, baseY),\\\n",
    "                          (baseX, baseY + height), \\\n",
    "                          (baseX + width, baseY + height), \\\n",
    "                          (baseX + width, baseY)]], \\\n",
    "                        dtype=np.int32)\n",
    "    X_block = np.empty((nRep, 32, 32, 1))\n",
    "    for i in range(nRep):\n",
    "        X_block[i] = cv2.fillPoly(img, vertices, 0.5).reshape(32,32,1)\n",
    "    return X_block\n",
    "#plt.imshow(add_random_blocks(grayscale(X_train[8001])), cmap = \"gray\")\n",
    "\n",
    "def preprocess(X_data):\n",
    "    n_samples = len(X_data)\n",
    "    X_out = np.empty((len(X_data),32,32,1))\n",
    "    for i in range(n_samples):\n",
    "        img = X_data[i]\n",
    "        img_gray = grayscale(img)\n",
    "        img_norm = normalize(img_gray)\n",
    "        X_out[i] = img_norm.reshape(32,32,1)\n",
    "    return X_out\n",
    "\n",
    "def preprocess0(img):\n",
    "    img_gray = grayscale(img)\n",
    "    img_norm = normalize(img_gray)\n",
    "    return img_norm.reshape(32,32,1)\n",
    "\n",
    "def preprocess_new(X_data, y_data, nRep):\n",
    "    n_samples = len(X_data)\n",
    "    X_out = np.empty((n_samples, 32, 32, 1))\n",
    "    X_bright = []; X_rotScl = []; X_trans = []; X_block = []; y_new = []\n",
    "    for i in range(n_samples):\n",
    "        print(i)\n",
    "        img = X_data[i]\n",
    "        \n",
    "        #factor = 0.9\n",
    "        #if len(X_bright) == 0:\n",
    "        #    X_bright = random_brightness(img, factor, nRep)\n",
    "        #else:\n",
    "        #    X_bright = np.concatenate((X_bright, random_brightness(img, factor, nRep)), axis = 0)\n",
    "        \n",
    "        #maxAngle = 20.; scaleFactor = 0.5\n",
    "        #if len(X_rotScl) == 0:\n",
    "        #    X_rotScl = random_rotation_scaling(img, maxAngle, scaleFactor, nRep)\n",
    "        #else:\n",
    "        #    X_rotScl = np.concatenate((X_rotScl, random_rotation_scaling(img, maxAngle, scaleFactor, nRep)), axis = 0)\n",
    "        \n",
    "        img_gray = grayscale(img.copy())\n",
    "        img_norm = normalize(img_gray)\n",
    "        X_out[i] = img_norm.reshape(32,32,1)\n",
    "        #use copy() in case add_random_blocks modify img_gray\n",
    "        if np.random.uniform() > 0.9:\n",
    "            #if len(X_block) == 0:\n",
    "            #    X_block = add_random_blocks(img_norm.copy(), nRep)\n",
    "            #else:\n",
    "            #    X_block = np.concatenate((X_block, add_random_blocks(img_norm.copy(), nRep)), axis = 0)\n",
    "            dFactor = 0.2\n",
    "            if len(X_trans) == 0:\n",
    "                X_trans = random_translation(img.copy(), dFactor, nRep)\n",
    "            else:\n",
    "                X_trans = np.concatenate((X_trans, random_translation(img.copy(), dFactor, nRep)), axis = 0)\n",
    "            y_new.append(y_data[i])\n",
    "\n",
    "        \n",
    "    #X_out = np.concatenate((X_out, X_bright, X_rotScl, X_trans, X_block), axis = 0)\n",
    "    X_out = np.concatenate((X_out, X_trans), axis = 0)\n",
    "    y_out = np.concatenate((y_data, y_new), axis = 0)\n",
    "    \n",
    "    return X_out, y_out\n"
   ]
  },
  {
   "cell_type": "code",
   "execution_count": null,
   "metadata": {},
   "outputs": [],
   "source": [
    "# visualization of preprocessing methods\n",
    "sub1 = plt.subplot(1, 2, 1)\n",
    "sub1.set_xticks(())\n",
    "sub1.set_yticks(())  \n",
    "#sub1.imshow(X_train[1027])\n",
    "#sub1.imshow(grayscale(X_train[1027]), cmap = 'gray')\n",
    "img_test = normalize(grayscale(X_train[1027]))\n",
    "sub1.imshow(img_test, cmap = 'gray')\n",
    "sub2 = plt.subplot(1, 2, 2)\n",
    "sub2.set_xticks(())\n",
    "sub2.set_yticks(())  \n",
    "X_test = add_random_blocks(img_test.copy(), 1)\n",
    "sub2.imshow(X_test[0].squeeze(), cmap = 'gray')\n",
    "#plt.savefig(img_output_dir + 'block.png', format = 'png')"
   ]
  },
  {
   "cell_type": "code",
   "execution_count": null,
   "metadata": {},
   "outputs": [],
   "source": [
    "augment = False\n",
    "read_augmented = False\n",
    "if augment:\n",
    "    if read_augmented:\n",
    "        x_train_aug_file = \"./x_train_aug.p\"\n",
    "        x_valid_aug_file = \"./x_valid_aug.p\"\n",
    "        y_train_aug_file = \"./y_train_aug.p\"\n",
    "        y_valid_aug_file = \"./y_valid_aug.p\"\n",
    "        with open(x_train_aug_file, mode='rb') as f:\n",
    "            X_train_new = pickle.load(f)\n",
    "        with open(x_valid_aug_file, mode='rb') as f:\n",
    "            X_valid_new = pickle.load(f)\n",
    "        with open(y_train_aug_file, mode='rb') as f:\n",
    "            y_train_new = pickle.load(f)\n",
    "        with open(y_valid_aug_file, mode='rb') as f:\n",
    "            y_valid_new = pickle.load(f)\n",
    "    else:\n",
    "        X_train_new, y_train_new = preprocess_new(X_train, y_train, 1)\n",
    "        X_valid_new, y_valid_new = preprocess_new(X_valid, y_valid, 1)\n",
    "        with open('x_train_aug.p', 'wb') as f:\n",
    "            pickle.dump(X_train_new, f)\n",
    "        with open('x_valid_aug.p', 'wb') as f:\n",
    "            pickle.dump(X_valid_new, f)\n",
    "        with open('y_train_aug.p', 'wb') as f:\n",
    "            pickle.dump(y_train_new, f)\n",
    "        with open('y_valid_aug.p', 'wb') as f:\n",
    "            pickle.dump(y_valid_new, f)\n",
    "    X_train = X_train_new.copy()\n",
    "    y_train = y_train_new.copy()\n",
    "    X_valid = X_valid_new.copy()\n",
    "    y_valid = y_valid_new.copy()\n",
    "else:\n",
    "    X_train = preprocess(X_train)\n",
    "    X_valid = preprocess(X_valid)\n",
    "    X_test = preprocess(X_test)"
   ]
  },
  {
   "cell_type": "markdown",
   "metadata": {},
   "source": [
    "### Model Architecture"
   ]
  },
  {
   "cell_type": "code",
   "execution_count": null,
   "metadata": {},
   "outputs": [],
   "source": [
    "! python --version"
   ]
  },
  {
   "cell_type": "code",
   "execution_count": null,
   "metadata": {
    "collapsed": true
   },
   "outputs": [],
   "source": [
    "### Define your architecture here.\n",
    "### Feel free to use as many code cells as needed.\n",
    "import tensorflow as tf\n",
    "from tensorflow.contrib.layers import flatten\n",
    "\n",
    "# Use the LeNet-5 neural network architecture\n",
    "def LeNet(x):    \n",
    "    # Arguments used for tf.truncated_normal, randomly defines variables for the weights and biases for each layer\n",
    "    mu = 0\n",
    "    sigma = 0.1\n",
    "    \n",
    "    # SOLUTION: Layer 1: Convolutional. Input = 32x32x1. Output = 28x28x6.\n",
    "    conv1_W = tf.Variable(tf.truncated_normal(shape=(5, 5, 1, 6), mean = mu, stddev = sigma))\n",
    "    conv1_b = tf.Variable(tf.zeros(6))\n",
    "    conv1   = tf.nn.conv2d(x, conv1_W, strides=[1, 1, 1, 1], padding='VALID') + conv1_b\n",
    "\n",
    "    # SOLUTION: Activation.\n",
    "    conv1 = tf.nn.relu(conv1)\n",
    "\n",
    "    # SOLUTION: Pooling. Input = 28x28x6. Output = 14x14x6.\n",
    "    conv1 = tf.nn.max_pool(conv1, ksize=[1, 2, 2, 1], strides=[1, 2, 2, 1], padding='VALID')\n",
    "\n",
    "    # SOLUTION: Layer 2: Convolutional. Output = 10x10x16.\n",
    "    conv2_W = tf.Variable(tf.truncated_normal(shape=(5, 5, 6, 16), mean = mu, stddev = sigma))\n",
    "    conv2_b = tf.Variable(tf.zeros(16))\n",
    "    conv2   = tf.nn.conv2d(conv1, conv2_W, strides=[1, 1, 1, 1], padding='VALID') + conv2_b\n",
    "    \n",
    "    # SOLUTION: Activation.\n",
    "    conv2 = tf.nn.relu(conv2)\n",
    "\n",
    "    # SOLUTION: Pooling. Input = 10x10x16. Output = 5x5x16.\n",
    "    conv2 = tf.nn.max_pool(conv2, ksize=[1, 2, 2, 1], strides=[1, 2, 2, 1], padding='VALID')\n",
    "\n",
    "    # SOLUTION: Flatten. Input = 5x5x16. Output = 400.\n",
    "    fc0   = flatten(conv2)\n",
    "    \n",
    "    # SOLUTION: Layer 3: Fully Connected. Input = 400. Output = 120.\n",
    "    fc1_W = tf.Variable(tf.truncated_normal(shape=(400, 120), mean = mu, stddev = sigma))\n",
    "    fc1_b = tf.Variable(tf.zeros(120))\n",
    "    fc1   = tf.matmul(fc0, fc1_W) + fc1_b\n",
    "    \n",
    "    # SOLUTION: Activation.\n",
    "    fc1    = tf.nn.relu(fc1)\n",
    "\n",
    "    # SOLUTION: Layer 4: Fully Connected. Input = 120. Output = 84.\n",
    "    fc2_W  = tf.Variable(tf.truncated_normal(shape=(120, 84), mean = mu, stddev = sigma))\n",
    "    fc2_b  = tf.Variable(tf.zeros(84))\n",
    "    fc2    = tf.matmul(fc1, fc2_W) + fc2_b\n",
    "    \n",
    "    # SOLUTION: Activation.\n",
    "    fc2    = tf.nn.relu(fc2)\n",
    "\n",
    "    # SOLUTION: Layer 5: Fully Connected. Input = 84. Output = 43.\n",
    "    fc3_W  = tf.Variable(tf.truncated_normal(shape=(84, 43), mean = mu, stddev = sigma))\n",
    "    fc3_b  = tf.Variable(tf.zeros(43))\n",
    "    logits = tf.matmul(fc2, fc3_W) + fc3_b\n",
    "    \n",
    "    return logits"
   ]
  },
  {
   "cell_type": "code",
   "execution_count": null,
   "metadata": {
    "collapsed": true
   },
   "outputs": [],
   "source": [
    "#x is a placeholder for images, y is a placeholder for labels\n",
    "x = tf.placeholder(tf.float32, (None, 32, 32, 1), name = 'x')\n",
    "y = tf.placeholder(tf.int32,(None), name = 'y')\n",
    "one_hot_y = tf.one_hot(y, 43)"
   ]
  },
  {
   "cell_type": "code",
   "execution_count": null,
   "metadata": {
    "collapsed": true
   },
   "outputs": [],
   "source": [
    "#Training Pipeline\n",
    "rate = 0.001\n",
    "logits = LeNet(x)\n",
    "# Name logits Tensor, so that is can be loaded from disk after training\n",
    "logits = tf.identity(logits, name='logits')\n",
    "# Cross-entropy\n",
    "cross_entropy = tf.nn.softmax_cross_entropy_with_logits(labels = one_hot_y, logits = logits)\n",
    "loss_operation = tf.reduce_mean(cross_entropy)\n",
    "# Optimization\n",
    "optimizer = tf.train.AdamOptimizer(learning_rate = rate)\n",
    "training_operation = optimizer.minimize(loss_operation, name = 'training_op')"
   ]
  },
  {
   "cell_type": "code",
   "execution_count": null,
   "metadata": {
    "collapsed": true
   },
   "outputs": [],
   "source": [
    "#Evaluation\n",
    "BATCH_SIZE = 64\n",
    "EPOCHS = 3\n",
    "correct_prediction = tf.equal(tf.argmax(logits, 1), tf.argmax(one_hot_y, 1))\n",
    "accuracy_operation = tf.reduce_mean(tf.cast(correct_prediction, tf.float32), name = 'accuracy')\n",
    "def evaluate(X_data, y_data):\n",
    "    num_samples = len(X_data)\n",
    "    total_accuracy = 0\n",
    "    sess = tf.get_default_session()\n",
    "    for offset in range(0, num_samples, BATCH_SIZE):\n",
    "        batch_x, batch_y = X_data[offset: offset + BATCH_SIZE], y_data[offset: offset + BATCH_SIZE]\n",
    "        accuracy = sess.run(accuracy_operation, feed_dict = {x: batch_x, y: batch_y})\n",
    "        total_accuracy += (accuracy * len(batch_x))\n",
    "    return total_accuracy / num_samples\n",
    "        "
   ]
  },
  {
   "cell_type": "markdown",
   "metadata": {},
   "source": [
    "### Train, Validate and Test the Model"
   ]
  },
  {
   "cell_type": "markdown",
   "metadata": {},
   "source": [
    "A validation set can be used to assess how well the model is performing. A low accuracy on the training and validation\n",
    "sets imply underfitting. A high accuracy on the training set but low accuracy on the validation set implies overfitting."
   ]
  },
  {
   "cell_type": "code",
   "execution_count": null,
   "metadata": {},
   "outputs": [],
   "source": [
    "### Train your model here.\n",
    "### Calculate and report the accuracy on the training and validation set.\n",
    "### Once a final model architecture is selected, \n",
    "### the accuracy on the test set should be calculated and reported as well.\n",
    "### Feel free to use as many code cells as needed.\n",
    "from sklearn.utils import shuffle\n",
    "import shutil\n",
    "\n",
    "saver = tf.train.Saver()\n",
    "\n",
    "trainAccArr = np.empty(EPOCHS)\n",
    "validAccArr = np.empty(EPOCHS)\n",
    "\n",
    "output_name = \"./lenet\"\n",
    "\n",
    "with tf.Session() as sess:\n",
    "    sess.run(tf.global_variables_initializer())\n",
    "    num_samples = len(X_train)\n",
    "    print(\"Training ...\")\n",
    "    print()\n",
    "    for i in range(EPOCHS):\n",
    "        X_train, y_train = shuffle(X_train, y_train)\n",
    "        for offset in range(0, num_samples, BATCH_SIZE):\n",
    "            batch_x, batch_y = X_train[offset: offset + BATCH_SIZE], y_train[offset: offset + BATCH_SIZE]\n",
    "            sess.run(training_operation, feed_dict = {x: batch_x, y: batch_y})\n",
    "        training_accuracy = evaluate(X_train, y_train)\n",
    "        validation_accuracy = evaluate(X_valid, y_valid)\n",
    "        print(\"EPOCH {} ...\".format(i+1))\n",
    "        print(\"Training Accuracy = {:.3f}\".format(training_accuracy))\n",
    "        print(\"Validation Accuracy = {:.3f}\".format(validation_accuracy))\n",
    "        trainAccArr[i] = training_accuracy\n",
    "        validAccArr[i] = validation_accuracy\n",
    "        print()\n",
    "    \n",
    "    saver.save(sess, output_name)\n",
    "    print(\"Model saved\")"
   ]
  },
  {
   "cell_type": "code",
   "execution_count": null,
   "metadata": {},
   "outputs": [],
   "source": [
    "epochArr = np.arange(0, EPOCHS)\n",
    "plt.plot(epochArr, validAccArr, label = 'validation')\n",
    "plt.plot(epochArr, trainAccArr, label = 'train')\n",
    "plt.axhline(y = 0.93, linestyle = 'dashed', color = 'r')\n",
    "plt.legend()\n",
    "plt.xlabel('Epoch')\n",
    "plt.ylabel('Accuracy')\n",
    "plt.show()"
   ]
  },
  {
   "cell_type": "code",
   "execution_count": null,
   "metadata": {},
   "outputs": [],
   "source": [
    "! pip list | grep tensorflow"
   ]
  },
  {
   "cell_type": "code",
   "execution_count": null,
   "metadata": {
    "collapsed": true
   },
   "outputs": [],
   "source": [
    "# only useful if kernel is restarted\n",
    "import tensorflow as tf\n",
    "import numpy as np\n",
    "import pickle\n",
    "import cv2\n",
    "\n",
    "BATCH_SIZE = 64\n",
    "output_name = \"./lenet\"\n",
    "testing_file = \"./traffic-signs-data/test.p\"\n",
    "\n",
    "with open(testing_file, mode='rb') as f:\n",
    "    test = pickle.load(f)\n",
    "\n",
    "X_test, y_test = test['features'], test['labels']\n",
    "def preprocess(X_data):\n",
    "    n_samples = len(X_data)\n",
    "    X_out = np.empty((len(X_data),32,32,1))\n",
    "    for i in range(n_samples):\n",
    "        img = X_data[i]\n",
    "        img_gray = grayscale(img)\n",
    "        img_norm = normalize(img_gray)\n",
    "        X_out[i] = img_norm.reshape(32,32,1)\n",
    "    return X_out\n",
    "def grayscale(img):\n",
    "    #return cv2.cvtColor(img, cv2.COLOR_RGB2GRAY)\n",
    "    return 0.299 * img[:, :, 0] + 0.587 * img[:, :, 1] + 0.114 * img[:, :, 2]\n",
    "\n",
    "def normalize(x):\n",
    "    return (x - 128.) / 128.\n",
    "\n",
    "X_test = preprocess(X_test)\n"
   ]
  },
  {
   "cell_type": "code",
   "execution_count": null,
   "metadata": {},
   "outputs": [],
   "source": [
    "# Test model 1\n",
    "def restoreSess(X_data, y_data, batches = True):\n",
    "\n",
    "    loaded_graph = tf.Graph()\n",
    "\n",
    "    with tf.Session(graph=loaded_graph) as sess:\n",
    "        # Load model\n",
    "        loader = tf.train.import_meta_graph(output_name + '.meta')\n",
    "        loader.restore(sess, output_name)\n",
    "\n",
    "        # Get Tensors from loaded model\n",
    "        loaded_x = loaded_graph.get_tensor_by_name('x:0')\n",
    "        loaded_y = loaded_graph.get_tensor_by_name('y:0')\n",
    "        loaded_logits = loaded_graph.get_tensor_by_name('logits:0')\n",
    "        loaded_accuracy = loaded_graph.get_tensor_by_name('accuracy:0')\n",
    "        #loaded_training_op = loaded_graph.get_operation_by_name('training_op:0')\n",
    "        \n",
    "        # Get accuracy in batches for memory limitations\n",
    "        if batches:\n",
    "            num_samples = len(X_test)\n",
    "            total_accuracy = 0\n",
    "            for offset in range(0, num_samples, BATCH_SIZE):\n",
    "                batch_x, batch_y = X_data[offset: offset + BATCH_SIZE], y_data[offset: offset + BATCH_SIZE]\n",
    "                accuracy = sess.run(loaded_accuracy, feed_dict = {loaded_x: batch_x, loaded_y: batch_y})\n",
    "                total_accuracy += (accuracy * len(batch_x))\n",
    "            print('Accuracy: {:.3f}\\n'.format(total_accuracy / num_samples))\n",
    "        else:\n",
    "            accuracy = sess.run(loaded_accuracy, feed_dict = {loaded_x: X_data, loaded_y: y_data})\n",
    "            print('Accuracy: {:.3f}\\n'.format(accuracy))\n"
   ]
  },
  {
   "cell_type": "code",
   "execution_count": null,
   "metadata": {},
   "outputs": [],
   "source": [
    "restoreSess(X_test, y_test)"
   ]
  },
  {
   "cell_type": "markdown",
   "metadata": {},
   "source": [
    "---\n",
    "\n",
    "## Step 3: Test a Model on New Images\n",
    "\n",
    "To give yourself more insight into how your model is working, download at least five pictures of German traffic signs from the web and use your model to predict the traffic sign type.\n",
    "\n",
    "You may find `signnames.csv` useful as it contains mappings from the class id (integer) to the actual sign name."
   ]
  },
  {
   "cell_type": "markdown",
   "metadata": {},
   "source": [
    "### Load and Output the Images"
   ]
  },
  {
   "cell_type": "code",
   "execution_count": 3,
   "metadata": {},
   "outputs": [],
   "source": [
    "### Load the images and plot them here.\n",
    "### Feel free to use as many code cells as needed.\n",
    "# resize downloaded images\n",
    "import matplotlib.pyplot as plt\n",
    "%matplotlib inline\n",
    "import matplotlib.image as mpimg\n",
    "from PIL import Image\n",
    "import numpy as np"
   ]
  },
  {
   "cell_type": "code",
   "execution_count": null,
   "metadata": {},
   "outputs": [],
   "source": [
    "# crop & resize\n",
    "index = '06'\n",
    "img0 = Image.open('./newImg/newImg' + index)\n",
    "img1 = img0.crop((25,10,160,125))\n",
    "img2 = img1.resize([32, 32], Image.ANTIALIAS)\n",
    "#plt.imshow(img2)\n",
    "img2.save(\"./newImg/newTest\" + index + '.png', \"PNG\")"
   ]
  },
  {
   "cell_type": "code",
   "execution_count": null,
   "metadata": {
    "scrolled": true
   },
   "outputs": [],
   "source": [
    "# test crop & resize\n",
    "imgTest01 = mpimg.imread('./newImg/newTest' + index + '.png')\n",
    "plt.imshow(imgTest01)\n",
    "print(imgTest01.shape)"
   ]
  },
  {
   "cell_type": "code",
   "execution_count": 26,
   "metadata": {},
   "outputs": [
    {
     "data": {
      "image/png": "[encoded data removed]",
      "text/plain": [
       "<matplotlib.figure.Figure at 0x7fd2516dbe48>"
      ]
     },
     "metadata": {},
     "output_type": "display_data"
    }
   ],
   "source": [
    "# load processed images\n",
    "num_newTest = 10\n",
    "\n",
    "X_test_web0 = np.empty((num_newTest,32,32,3))\n",
    "for i in range(num_newTest):\n",
    "    img = mpimg.imread('./newImg/newTest' + str(i + 1).zfill(2) + '.png')\n",
    "    X_test_web0[i] = img\n",
    "#print(X_test_web.shape) \n",
    "\n",
    "# plot new images\n",
    "plt.rcParams['figure.figsize'] = (16, 3)\n",
    "for i in range(len(X_test_web)):\n",
    "    sub = plt.subplot(1, 10, i+1)\n",
    "    sub.set_xticks(())\n",
    "    sub.set_yticks(())\n",
    "    sub.imshow(X_test_web0[i])\n",
    "#plt.savefig(img_output_dir + 'newTestImg.png', format = 'png')\n",
    "plt.show()\n"
   ]
  },
  {
   "cell_type": "code",
   "execution_count": 27,
   "metadata": {},
   "outputs": [
    {
     "ename": "NameError",
     "evalue": "name 'preprocess' is not defined",
     "output_type": "error",
     "traceback": [
      "\u001b[0;31m---------------------------------------------------------------------------\u001b[0m",
      "\u001b[0;31mNameError\u001b[0m                                 Traceback (most recent call last)",
      "\u001b[0;32m<ipython-input-27-c6f02d0551f5>\u001b[0m in \u001b[0;36m<module>\u001b[0;34m()\u001b[0m\n\u001b[1;32m      1\u001b[0m \u001b[0;31m# preprocess images\u001b[0m\u001b[0;34m\u001b[0m\u001b[0;34m\u001b[0m\u001b[0m\n\u001b[0;32m----> 2\u001b[0;31m \u001b[0mX_test_web\u001b[0m \u001b[0;34m=\u001b[0m \u001b[0mpreprocess\u001b[0m\u001b[0;34m(\u001b[0m\u001b[0mX_test_web0\u001b[0m\u001b[0;34m)\u001b[0m\u001b[0;34m\u001b[0m\u001b[0m\n\u001b[0m\u001b[1;32m      3\u001b[0m \u001b[0;34m\u001b[0m\u001b[0m\n\u001b[1;32m      4\u001b[0m \u001b[0;31m# give correct label to new images\u001b[0m\u001b[0;34m\u001b[0m\u001b[0;34m\u001b[0m\u001b[0m\n\u001b[1;32m      5\u001b[0m \u001b[0my_web_sign_name\u001b[0m \u001b[0;34m=\u001b[0m \u001b[0;34m[\u001b[0m\u001b[0;34m'Traffic signals'\u001b[0m\u001b[0;34m,\u001b[0m \u001b[0;34m'Children crossing'\u001b[0m\u001b[0;34m,\u001b[0m \u001b[0;34m'Speed limit (30km/h)'\u001b[0m\u001b[0;34m,\u001b[0m \u001b[0;34m'Stop'\u001b[0m\u001b[0;34m,\u001b[0m \u001b[0;34m'Speed limit (60km/h)'\u001b[0m\u001b[0;34m,\u001b[0m                   \u001b[0;34m'Right-of-way at the next intersection'\u001b[0m\u001b[0;34m,\u001b[0m \u001b[0;34m'Pedestrians'\u001b[0m\u001b[0;34m,\u001b[0m \u001b[0;34m'Wild animals crossing'\u001b[0m\u001b[0;34m,\u001b[0m \u001b[0;34m'Bumpy road'\u001b[0m\u001b[0;34m,\u001b[0m                    \u001b[0;34m'Speed limit (50km/h)'\u001b[0m\u001b[0;34m]\u001b[0m\u001b[0;34m\u001b[0m\u001b[0m\n",
      "\u001b[0;31mNameError\u001b[0m: name 'preprocess' is not defined"
     ]
    }
   ],
   "source": [
    "# preprocess images\n",
    "X_test_web = preprocess(X_test_web0)\n",
    "\n",
    "# give correct label to new images\n",
    "y_web_sign_name = ['Traffic signals', 'Children crossing', 'Speed limit (30km/h)', 'Stop', 'Speed limit (60km/h)',\\\n",
    "                   'Right-of-way at the next intersection', 'Pedestrians', 'Wild animals crossing', 'Bumpy road', \\\n",
    "                   'Speed limit (50km/h)']\n",
    "y_test_web = np.array([26, 28, 1, 14, 3, 11, 27, 31, 22, 2], dtype = 'uint8')"
   ]
  },
  {
   "cell_type": "markdown",
   "metadata": {},
   "source": [
    "### Predict the Sign Type for Each Image"
   ]
  },
  {
   "cell_type": "code",
   "execution_count": null,
   "metadata": {},
   "outputs": [],
   "source": [
    "X_test_web.shape, y_test_web.shape, X_test.shape, y_test.shape"
   ]
  },
  {
   "cell_type": "code",
   "execution_count": null,
   "metadata": {},
   "outputs": [],
   "source": [
    "### Run the predictions here and use the model to output the prediction for each image.\n",
    "### Make sure to pre-process the images with the same pre-processing pipeline used earlier.\n",
    "### Feel free to use as many code cells as needed.\n",
    "restoreSess(X_test, y_test, False)"
   ]
  },
  {
   "cell_type": "markdown",
   "metadata": {},
   "source": [
    "### Analyze Performance"
   ]
  },
  {
   "cell_type": "code",
   "execution_count": null,
   "metadata": {
    "collapsed": true
   },
   "outputs": [],
   "source": [
    "### Calculate the accuracy for these 5 new images. \n",
    "### For example, if the model predicted 1 out of 5 signs correctly, it's 20% accurate on these new images.'"
   ]
  },
  {
   "cell_type": "markdown",
   "metadata": {},
   "source": [
    "### Output Top 5 Softmax Probabilities For Each Image Found on the Web"
   ]
  },
  {
   "cell_type": "markdown",
   "metadata": {},
   "source": [
    "For each of the new images, print out the model's softmax probabilities to show the **certainty** of the model's predictions (limit the output to the top 5 probabilities for each image). [`tf.nn.top_k`](https://www.tensorflow.org/versions/r0.12/api_docs/python/nn.html#top_k) could prove helpful here. \n",
    "\n",
    "The example below demonstrates how tf.nn.top_k can be used to find the top k predictions for each image.\n",
    "\n",
    "`tf.nn.top_k` will return the values and indices (class ids) of the top k predictions. So if k=3, for each sign, it'll return the 3 largest probabilities (out of a possible 43) and the correspoding class ids.\n",
    "\n",
    "Take this numpy array as an example. The values in the array represent predictions. The array contains softmax probabilities for five candidate images with six possible classes. `tf.nn.top_k` is used to choose the three classes with the highest probability:\n",
    "\n",
    "```\n",
    "# (5, 6) array\n",
    "a = np.array([[ 0.24879643,  0.07032244,  0.12641572,  0.34763842,  0.07893497,\n",
    "         0.12789202],\n",
    "       [ 0.28086119,  0.27569815,  0.08594638,  0.0178669 ,  0.18063401,\n",
    "         0.15899337],\n",
    "       [ 0.26076848,  0.23664738,  0.08020603,  0.07001922,  0.1134371 ,\n",
    "         0.23892179],\n",
    "       [ 0.11943333,  0.29198961,  0.02605103,  0.26234032,  0.1351348 ,\n",
    "         0.16505091],\n",
    "       [ 0.09561176,  0.34396535,  0.0643941 ,  0.16240774,  0.24206137,\n",
    "         0.09155967]])\n",
    "```\n",
    "\n",
    "Running it through `sess.run(tf.nn.top_k(tf.constant(a), k=3))` produces:\n",
    "\n",
    "```\n",
    "TopKV2(values=array([[ 0.34763842,  0.24879643,  0.12789202],\n",
    "       [ 0.28086119,  0.27569815,  0.18063401],\n",
    "       [ 0.26076848,  0.23892179,  0.23664738],\n",
    "       [ 0.29198961,  0.26234032,  0.16505091],\n",
    "       [ 0.34396535,  0.24206137,  0.16240774]]), indices=array([[3, 0, 5],\n",
    "       [0, 1, 4],\n",
    "       [0, 5, 1],\n",
    "       [1, 3, 5],\n",
    "       [1, 4, 3]], dtype=int32))\n",
    "```\n",
    "\n",
    "Looking just at the first row we get `[ 0.34763842,  0.24879643,  0.12789202]`, you can confirm these are the 3 largest probabilities in `a`. You'll also notice `[3, 0, 5]` are the corresponding indices."
   ]
  },
  {
   "cell_type": "code",
   "execution_count": null,
   "metadata": {
    "collapsed": true
   },
   "outputs": [],
   "source": [
    "def display_image_predictions(features, labels, predictions):\n",
    "    plt.rcParams['figure.figsize'] = (12, 25)\n",
    "    n_classes = 43\n",
    "    label_names = sign_names['SignName'].tolist()\n",
    "    label_ids = labels\n",
    "    \n",
    "    fig, axies = plt.subplots(nrows=10, ncols=2)\n",
    "    fig.tight_layout()\n",
    "    fig.suptitle('Softmax Predictions', fontsize=20, y=1.1)\n",
    "\n",
    "    n_predictions = 5\n",
    "    margin = 0.05\n",
    "    ind = np.arange(n_predictions)\n",
    "    width = (1. - 2. * margin) / n_predictions\n",
    "\n",
    "    for image_i, (feature, label_id, pred_indicies, pred_values) in enumerate(zip(features, label_ids, predictions.indices, predictions.values)):\n",
    "        pred_names = [label_names[pred_i] for pred_i in pred_indicies]\n",
    "        correct_name = label_names[label_id]\n",
    "\n",
    "        axies[image_i][0].imshow(feature.squeeze())\n",
    "        axies[image_i][0].set_title(correct_name)\n",
    "        axies[image_i][0].set_axis_off()\n",
    "\n",
    "        axies[image_i][1].barh(ind + margin, pred_values[::-1], width)\n",
    "        axies[image_i][1].set_yticks(ind + margin)\n",
    "        axies[image_i][1].set_yticklabels(pred_names[::-1])\n",
    "        axies[image_i][1].set_xticks([0, 0.5, 1.0])"
   ]
  },
  {
   "cell_type": "code",
   "execution_count": null,
   "metadata": {},
   "outputs": [],
   "source": [
    "k = 5\n",
    "loaded_graph = tf.Graph()\n",
    "\n",
    "with tf.Session(graph=loaded_graph) as sess:\n",
    "    # Load model\n",
    "    loader = tf.train.import_meta_graph(output_name + '.meta')\n",
    "    loader.restore(sess, output_name)\n",
    "\n",
    "    # Get Tensors from loaded model\n",
    "    loaded_x = loaded_graph.get_tensor_by_name('x:0')\n",
    "    loaded_y = loaded_graph.get_tensor_by_name('y:0')\n",
    "    loaded_logits = loaded_graph.get_tensor_by_name('logits:0')\n",
    "    \n",
    "    test_web_predictions = sess.run(\n",
    "            tf.nn.top_k(tf.nn.softmax(loaded_logits), k),\n",
    "            feed_dict={loaded_x: X_test_web, loaded_y: y_test_web})"
   ]
  },
  {
   "cell_type": "code",
   "execution_count": null,
   "metadata": {},
   "outputs": [],
   "source": [
    "display_image_predictions(X_test_web, y_test_web, test_web_predictions)"
   ]
  },
  {
   "cell_type": "code",
   "execution_count": null,
   "metadata": {
    "collapsed": true
   },
   "outputs": [],
   "source": [
    "### Print out the top five softmax probabilities for the predictions on the German traffic sign images found on the web. \n",
    "### Feel free to use as many code cells as needed."
   ]
  },
  {
   "cell_type": "markdown",
   "metadata": {},
   "source": [
    "### Project Writeup\n",
    "\n",
    "Once you have completed the code implementation, document your results in a project writeup using this [template](https://github.com/udacity/CarND-Traffic-Sign-Classifier-Project/blob/master/writeup_template.md) as a guide. The writeup can be in a markdown or pdf file. "
   ]
  },
  {
   "cell_type": "markdown",
   "metadata": {},
   "source": [
    "> **Note**: Once you have completed all of the code implementations and successfully answered each question above, you may finalize your work by exporting the iPython Notebook as an HTML document. You can do this by using the menu above and navigating to  \\n\",\n",
    "    \"**File -> Download as -> HTML (.html)**. Include the finished document along with this notebook as your submission."
   ]
  },
  {
   "cell_type": "markdown",
   "metadata": {},
   "source": [
    "---\n",
    "\n",
    "## Step 4 (Optional): Visualize the Neural Network's State with Test Images\n",
    "\n",
    " This Section is not required to complete but acts as an additional excersise for understaning the output of a neural network's weights. While neural networks can be a great learning device they are often referred to as a black box. We can understand what the weights of a neural network look like better by plotting their feature maps. After successfully training your neural network you can see what it's feature maps look like by plotting the output of the network's weight layers in response to a test stimuli image. From these plotted feature maps, it's possible to see what characteristics of an image the network finds interesting. For a sign, maybe the inner network feature maps react with high activation to the sign's boundary outline or to the contrast in the sign's painted symbol.\n",
    "\n",
    " Provided for you below is the function code that allows you to get the visualization output of any tensorflow weight layer you want. The inputs to the function should be a stimuli image, one used during training or a new one you provided, and then the tensorflow variable name that represents the layer's state during the training process, for instance if you wanted to see what the [LeNet lab's](https://classroom.udacity.com/nanodegrees/nd013/parts/fbf77062-5703-404e-b60c-95b78b2f3f9e/modules/6df7ae49-c61c-4bb2-a23e-6527e69209ec/lessons/601ae704-1035-4287-8b11-e2c2716217ad/concepts/d4aca031-508f-4e0b-b493-e7b706120f81) feature maps looked like for it's second convolutional layer you could enter conv2 as the tf_activation variable.\n",
    "\n",
    "For an example of what feature map outputs look like, check out NVIDIA's results in their paper [End-to-End Deep Learning for Self-Driving Cars](https://devblogs.nvidia.com/parallelforall/deep-learning-self-driving-cars/) in the section Visualization of internal CNN State. NVIDIA was able to show that their network's inner weights had high activations to road boundary lines by comparing feature maps from an image with a clear path to one without. Try experimenting with a similar test to show that your trained network's weights are looking for interesting features, whether it's looking at differences in feature maps from images with or without a sign, or even what feature maps look like in a trained network vs a completely untrained one on the same sign image.\n",
    "\n",
    "<figure>\n",
    " <img src=\"visualize_cnn.png\" width=\"380\" alt=\"Combined Image\" />\n",
    " <figcaption>\n",
    " <p></p> \n",
    " <p style=\"text-align: center;\"> Your output should look something like this (above)</p> \n",
    " </figcaption>\n",
    "</figure>\n",
    " <p></p> \n"
   ]
  },
  {
   "cell_type": "code",
   "execution_count": null,
   "metadata": {
    "collapsed": true
   },
   "outputs": [],
   "source": [
    "### Visualize your network's feature maps here.\n",
    "### Feel free to use as many code cells as needed.\n",
    "\n",
    "# image_input: the test image being fed into the network to produce the feature maps\n",
    "# tf_activation: should be a tf variable name used during your training procedure that represents the calculated state of a specific weight layer\n",
    "# activation_min/max: can be used to view the activation contrast in more detail, by default matplot sets min and max to the actual min and max values of the output\n",
    "# plt_num: used to plot out multiple different weight feature map sets on the same block, just extend the plt number for each new feature map entry\n",
    "\n",
    "def outputFeatureMap(image_input, tf_activation, activation_min=-1, activation_max=-1 ,plt_num=1):\n",
    "    # Here make sure to preprocess your image_input in a way your network expects\n",
    "    # with size, normalization, ect if needed\n",
    "    # image_input =\n",
    "    # Note: x should be the same name as your network's tensorflow data placeholder variable\n",
    "    # If you get an error tf_activation is not defined it may be having trouble accessing the variable from inside a function\n",
    "    activation = tf_activation.eval(session=sess,feed_dict={x : image_input})\n",
    "    featuremaps = activation.shape[3]\n",
    "    plt.figure(plt_num, figsize=(15,15))\n",
    "    for featuremap in range(featuremaps):\n",
    "        plt.subplot(6,8, featuremap+1) # sets the number of feature maps to show on each row and column\n",
    "        plt.title('FeatureMap ' + str(featuremap)) # displays the feature map number\n",
    "        if activation_min != -1 & activation_max != -1:\n",
    "            plt.imshow(activation[0,:,:, featuremap], interpolation=\"nearest\", vmin =activation_min, vmax=activation_max, cmap=\"gray\")\n",
    "        elif activation_max != -1:\n",
    "            plt.imshow(activation[0,:,:, featuremap], interpolation=\"nearest\", vmax=activation_max, cmap=\"gray\")\n",
    "        elif activation_min !=-1:\n",
    "            plt.imshow(activation[0,:,:, featuremap], interpolation=\"nearest\", vmin=activation_min, cmap=\"gray\")\n",
    "        else:\n",
    "            plt.imshow(activation[0,:,:, featuremap], interpolation=\"nearest\", cmap=\"gray\")"
   ]
  }
 ],
 "metadata": {
  "anaconda-cloud": {},
  "kernelspec": {
   "display_name": "Python 3",
   "language": "python",
   "name": "python3"
  },
  "language_info": {
   "codemirror_mode": {
    "name": "ipython",
    "version": 3
   },
   "file_extension": ".py",
   "mimetype": "text/x-python",
   "name": "python",
   "nbconvert_exporter": "python",
   "pygments_lexer": "ipython3",
   "version": "3.5.2"
  },
  "widgets": {
   "state": {},
   "version": "1.1.2"
  }
 },
 "nbformat": 4,
 "nbformat_minor": 1
}
